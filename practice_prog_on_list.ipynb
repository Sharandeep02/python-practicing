{
  "nbformat": 4,
  "nbformat_minor": 0,
  "metadata": {
    "colab": {
      "name": "practice prog on list.ipynb",
      "provenance": [],
      "authorship_tag": "ABX9TyMjfPDHX6/ZNyJDjy7Prgdp",
      "include_colab_link": true
    },
    "kernelspec": {
      "name": "python3",
      "display_name": "Python 3"
    }
  },
  "cells": [
    {
      "cell_type": "markdown",
      "metadata": {
        "id": "view-in-github",
        "colab_type": "text"
      },
      "source": [
        "<a href=\"https://colab.research.google.com/github/Sharandeep02/python-practicing/blob/master/practice_prog_on_list.ipynb\" target=\"_parent\"><img src=\"https://colab.research.google.com/assets/colab-badge.svg\" alt=\"Open In Colab\"/></a>"
      ]
    },
    {
      "cell_type": "code",
      "metadata": {
        "id": "azoNsfeVtJhf",
        "colab_type": "code",
        "outputId": "058e0558-2fc2-40c8-f4f4-573e178bf339",
        "colab": {
          "base_uri": "https://localhost:8080/",
          "height": 34
        }
      },
      "source": [
        "#program to get difference of two list\n",
        "l=[1,6,13,9,9]\n",
        "s=[5,2,7,8,4]\n",
        "d=[]\n",
        "for i in range(len(s)):\n",
        "  d.append(l[i]-s[i])\n",
        "  \n",
        "print(d)"
      ],
      "execution_count": 3,
      "outputs": [
        {
          "output_type": "stream",
          "text": [
            "[-4, 4, 6, 1, 5]\n"
          ],
          "name": "stdout"
        }
      ]
    },
    {
      "cell_type": "code",
      "metadata": {
        "id": "m1Oy8wjvy97G",
        "colab_type": "code",
        "colab": {
          "base_uri": "https://localhost:8080/",
          "height": 34
        },
        "outputId": "0595452a-e66b-4617-f5ea-5b415b083109"
      },
      "source": [
        "#program to convert a list into string\n",
        "s=['s','h','a','r','a','n']\n",
        "d=\"\"\n",
        "for i in range(len(s)):\n",
        "  d=d+s[i]\n",
        "print(d)"
      ],
      "execution_count": 4,
      "outputs": [
        {
          "output_type": "stream",
          "text": [
            "sharan\n"
          ],
          "name": "stdout"
        }
      ]
    },
    {
      "cell_type": "code",
      "metadata": {
        "id": "3ld7Lp3xz5bK",
        "colab_type": "code",
        "colab": {
          "base_uri": "https://localhost:8080/",
          "height": 34
        },
        "outputId": "70e1e40f-355d-4c73-dcea-ec4778aa136e"
      },
      "source": [
        "#program to have unique set of elements in the list\n",
        "s=[3,5,4,3,4,5,2,1,6,2,3,4,1]\n",
        "d=[]\n",
        "for i in range(len(s)):\n",
        "  if s[i] not in d:\n",
        "    d.append(s[i])\n",
        "print(d)"
      ],
      "execution_count": 6,
      "outputs": [
        {
          "output_type": "stream",
          "text": [
            "[3, 5, 4, 2, 1, 6]\n"
          ],
          "name": "stdout"
        }
      ]
    },
    {
      "cell_type": "code",
      "metadata": {
        "id": "0jMtr4Ee01f0",
        "colab_type": "code",
        "colab": {
          "base_uri": "https://localhost:8080/",
          "height": 85
        },
        "outputId": "68ec3585-c3f1-4224-d80e-47dd43751bed"
      },
      "source": [
        "#program to rotate the list\n",
        "s=[3,4,5,6,6,7]\n",
        "print(s[len(s)-1:])#slicing the list with the last element\n",
        "print(s[0:len(s)-1])#slicing the list from first element to one element before the last element\n",
        "\n",
        "n=int(input(\"enter the number of rotations:\"))\n",
        "for i in range(n):\n",
        "  s=s[len(s)-1:]+s[0:len(s)-1]\n",
        "print(s)\n",
        "\n"
      ],
      "execution_count": 14,
      "outputs": [
        {
          "output_type": "stream",
          "text": [
            "[7]\n",
            "[3, 4, 5, 6, 6]\n",
            "enter the number of rotations:3\n",
            "[6, 6, 7, 3, 4, 5]\n"
          ],
          "name": "stdout"
        }
      ]
    }
  ]
}