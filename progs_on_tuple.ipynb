{
  "nbformat": 4,
  "nbformat_minor": 0,
  "metadata": {
    "colab": {
      "name": "progs on tuple.ipynb",
      "provenance": [],
      "collapsed_sections": [],
      "authorship_tag": "ABX9TyP+FlGi1jQ1S8A26/6Wz66/",
      "include_colab_link": true
    },
    "kernelspec": {
      "name": "python3",
      "display_name": "Python 3"
    }
  },
  "cells": [
    {
      "cell_type": "markdown",
      "metadata": {
        "id": "view-in-github",
        "colab_type": "text"
      },
      "source": [
        "<a href=\"https://colab.research.google.com/github/Sharandeep02/python-practicing/blob/master/progs_on_tuple.ipynb\" target=\"_parent\"><img src=\"https://colab.research.google.com/assets/colab-badge.svg\" alt=\"Open In Colab\"/></a>"
      ]
    },
    {
      "cell_type": "code",
      "metadata": {
        "id": "SJAuyDQvj4HA",
        "colab_type": "code",
        "colab": {
          "base_uri": "https://localhost:8080/",
          "height": 34
        },
        "outputId": "22b6354b-0c66-45b9-f3a2-cc6771cf83fd"
      },
      "source": [
        "#program to get sum of odd tuple elements\n",
        "s=(7,8,9,1,10,7)\n",
        "sum=0\n",
        "for i in range(len(s)):\n",
        "  if s[i]%2 != 0:\n",
        "    sum=sum+s[i]\n",
        "print(sum)\n"
      ],
      "execution_count": 9,
      "outputs": [
        {
          "output_type": "stream",
          "text": [
            "24\n"
          ],
          "name": "stdout"
        }
      ]
    },
    {
      "cell_type": "code",
      "metadata": {
        "id": "gwEIr0aik7C9",
        "colab_type": "code",
        "colab": {
          "base_uri": "https://localhost:8080/",
          "height": 34
        },
        "outputId": "9b614828-1cb8-42d1-dc56-6d286f6f5f95"
      },
      "source": [
        "#progran to find smallest second index value from a list of tuples\n",
        "s=[(4,1),(1,2),(6,0)]\n",
        "if (s[0][1] < s[1][1] and s[2][1]):\n",
        "  print(s[0])\n",
        "elif(s[1][1] < s[0][1] and s[2][2]):\n",
        "  print(s[1])\n",
        "else:\n",
        "  print(s[2])\n",
        "\n"
      ],
      "execution_count": 8,
      "outputs": [
        {
          "output_type": "stream",
          "text": [
            "(6, 0)\n"
          ],
          "name": "stdout"
        }
      ]
    },
    {
      "cell_type": "code",
      "metadata": {
        "id": "oYem7MdBqT1u",
        "colab_type": "code",
        "colab": {}
      },
      "source": [
        "l=(10,20,30,40,50,60,70,80)\n",
        "l=l+(60,)#adding a element to the tuple at the end\n",
        "print(l)\n"
      ],
      "execution_count": 0,
      "outputs": []
    },
    {
      "cell_type": "code",
      "metadata": {
        "id": "05veTWcYs4vT",
        "colab_type": "code",
        "colab": {
          "base_uri": "https://localhost:8080/",
          "height": 51
        },
        "outputId": "24ae4834-e6e3-42ac-f390-e9dfa92f05f3"
      },
      "source": [
        "#adding an element to a tuple\n",
        "s=(10,20,30,40,50,60,70,80)\n",
        "s=s[:4]+(100,)+s[5:]\n",
        "print(s)\n",
        "\n",
        "\n",
        "\n",
        "#deleting an element from tuple\n",
        "s=s[0:4]+s[5:]\n",
        "print(s)"
      ],
      "execution_count": 18,
      "outputs": [
        {
          "output_type": "stream",
          "text": [
            "(10, 20, 30, 40, 100, 60, 70, 80)\n",
            "(10, 20, 30, 40, 60, 70, 80)\n"
          ],
          "name": "stdout"
        }
      ]
    },
    {
      "cell_type": "code",
      "metadata": {
        "id": "UVgzfFWp1FUF",
        "colab_type": "code",
        "colab": {
          "base_uri": "https://localhost:8080/",
          "height": 34
        },
        "outputId": "537ffc96-fb50-48ae-ba27-e7b7ebd55c91"
      },
      "source": [
        "#program to convert a tuple into string \n",
        "t=('w','e','l','c','o','m','e')\n",
        "s=\"\"\n",
        "for i in range(len(t)):\n",
        "  s=s+(t[i])\n",
        "print(s)"
      ],
      "execution_count": 22,
      "outputs": [
        {
          "output_type": "stream",
          "text": [
            "welcome\n"
          ],
          "name": "stdout"
        }
      ]
    },
    {
      "cell_type": "code",
      "metadata": {
        "id": "YaBXc1YJ2ZvS",
        "colab_type": "code",
        "colab": {
          "base_uri": "https://localhost:8080/",
          "height": 51
        },
        "outputId": "6bc024d9-a1e7-45a0-e2dd-719800250b73"
      },
      "source": [
        "#program to check an element exist in tuple or not\n",
        "a=(2,4,5,6,2,3,4,4,7)\n",
        "n=int(input(\"which element u want to check:\"))\n",
        "if n in a:\n",
        "  print(\"yes\")\n",
        "else:\n",
        "  print(\"no\")"
      ],
      "execution_count": 25,
      "outputs": [
        {
          "output_type": "stream",
          "text": [
            "which element u want to check:5\n",
            "yes\n"
          ],
          "name": "stdout"
        }
      ]
    },
    {
      "cell_type": "code",
      "metadata": {
        "id": "0aayMwlt30ey",
        "colab_type": "code",
        "colab": {
          "base_uri": "https://localhost:8080/",
          "height": 34
        },
        "outputId": "ddf8ca71-8000-4dc3-a438-9ab916e530b1"
      },
      "source": [
        "#program to reverse tuple\n",
        "p=(5,10,15,20)\n",
        "print(p[::-1]) "
      ],
      "execution_count": 27,
      "outputs": [
        {
          "output_type": "stream",
          "text": [
            "(20, 15, 10, 5)\n"
          ],
          "name": "stdout"
        }
      ]
    }
  ]
}